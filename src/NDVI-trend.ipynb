{
 "cells": [
  {
   "cell_type": "code",
   "execution_count": 1,
   "id": "6b7c8f2f",
   "metadata": {},
   "outputs": [],
   "source": [
    "import ee\n",
    "import geemap\n",
    "import geedim as gd\n",
    "import geopandas as gpd"
   ]
  },
  {
   "cell_type": "code",
   "execution_count": 2,
   "id": "a01074e0",
   "metadata": {},
   "outputs": [],
   "source": [
    "geemap.set_proxy(port=4780)"
   ]
  },
  {
   "cell_type": "code",
   "execution_count": 4,
   "id": "aa72aa41",
   "metadata": {},
   "outputs": [
    {
     "data": {
      "text/html": [
       "<p>To authorize access needed by Earth Engine, open the following\n",
       "        URL in a web browser and follow the instructions:</p>\n",
       "        <p><a href=https://code.earthengine.google.com/client-auth?scopes=https%3A//www.googleapis.com/auth/earthengine%20https%3A//www.googleapis.com/auth/devstorage.full_control&request_id=Q2-BYxwQpRj_X-q_pzcWp1VP94LI6g2_PdR1k3WdJsg&tc=rv0xvOdr8r5qMVt-f-stEn3frmPGnXBkh3YJUU8zdhU&cc=7O-86ILAzjgK3-HJAoJnWs6Wv59FGymLldE3xcNxu1U>https://code.earthengine.google.com/client-auth?scopes=https%3A//www.googleapis.com/auth/earthengine%20https%3A//www.googleapis.com/auth/devstorage.full_control&request_id=Q2-BYxwQpRj_X-q_pzcWp1VP94LI6g2_PdR1k3WdJsg&tc=rv0xvOdr8r5qMVt-f-stEn3frmPGnXBkh3YJUU8zdhU&cc=7O-86ILAzjgK3-HJAoJnWs6Wv59FGymLldE3xcNxu1U</a></p>\n",
       "        <p>The authorization workflow will generate a code, which you should paste in the box below.</p>\n",
       "        "
      ],
      "text/plain": [
       "<IPython.core.display.HTML object>"
      ]
     },
     "metadata": {},
     "output_type": "display_data"
    },
    {
     "name": "stdout",
     "output_type": "stream",
     "text": [
      "Enter verification code: 4/1AbUR2VP5DnVRfpWIW2ANHHAmhyDBR76F50PwnE25ZJjDIPbS9lKAgtJJmNE\n",
      "\n",
      "Successfully saved authorization token.\n"
     ]
    }
   ],
   "source": [
    "ee.Authenticate()"
   ]
  },
  {
   "cell_type": "code",
   "execution_count": 5,
   "id": "8bf9529d",
   "metadata": {},
   "outputs": [],
   "source": [
    "ee.Initialize()"
   ]
  },
  {
   "cell_type": "code",
   "execution_count": 6,
   "id": "2fa6530f",
   "metadata": {},
   "outputs": [],
   "source": [
    "sentinel = ee.ImageCollection('COPERNICUS/S2_SR_HARMONIZED')"
   ]
  },
  {
   "cell_type": "code",
   "execution_count": 7,
   "id": "2f66bcfe",
   "metadata": {},
   "outputs": [],
   "source": [
    "geometry_dir = \"/Users/lilywang/Desktop/phD/Qilian/UAV-LULC/downloaded-datasets/Suli/suli.shp\"\n",
    "region = geemap.shp_to_ee(geometry_dir).geometry()"
   ]
  },
  {
   "cell_type": "code",
   "execution_count": 8,
   "id": "e2a4330d",
   "metadata": {},
   "outputs": [],
   "source": [
    "def clip_to_shapefile(img):\n",
    "    return img.clip(region)"
   ]
  },
  {
   "cell_type": "code",
   "execution_count": 9,
   "id": "c88a9aa9",
   "metadata": {},
   "outputs": [],
   "source": [
    "def calculate_ndvi(img):\n",
    "    NDVI = img.normalizedDifference(['B8','B4'])\n",
    "    return NDVI"
   ]
  },
  {
   "cell_type": "code",
   "execution_count": 10,
   "id": "1c38a762",
   "metadata": {},
   "outputs": [],
   "source": [
    "CLOUD_FILTER = 60\n",
    "CLD_PRB_THRESH = 40\n",
    "NIR_DRK_THRESH = 0.15\n",
    "CLD_PRJ_DIST = 2\n",
    "BUFFER = 100"
   ]
  },
  {
   "cell_type": "code",
   "execution_count": 11,
   "id": "35cf5d0f",
   "metadata": {},
   "outputs": [],
   "source": [
    "def get_s2_sr_cld_col(month,aoi):\n",
    "    # Import and filter S2 SR.\n",
    "    s2_sr_col = (ee.ImageCollection('COPERNICUS/S2_SR')\n",
    "        .filterBounds(aoi)\n",
    "        .filter(ee.Filter.calendarRange(month,month,'month'))\n",
    "        .filter(ee.Filter.lte('CLOUDY_PIXEL_PERCENTAGE', CLOUD_FILTER))\n",
    "        .map(clip_to_shapefile))\n",
    "\n",
    "    # Import and filter s2cloudless.\n",
    "    s2_cloudless_col = (ee.ImageCollection('COPERNICUS/S2_CLOUD_PROBABILITY')\n",
    "        .filterBounds(aoi)\n",
    "        .filter(ee.Filter.calendarRange(month,month,'month'))\n",
    "        .map(clip_to_shapefile))\n",
    "\n",
    "    # Join the filtered s2cloudless collection to the SR collection by the 'system:index' property.\n",
    "    return ee.ImageCollection(ee.Join.saveFirst('s2cloudless').apply(**{\n",
    "        'primary': s2_sr_col,\n",
    "        'secondary': s2_cloudless_col,\n",
    "        'condition': ee.Filter.equals(**{\n",
    "            'leftField': 'system:index',\n",
    "            'rightField': 'system:index'\n",
    "        })\n",
    "    }))"
   ]
  },
  {
   "cell_type": "code",
   "execution_count": 12,
   "id": "e5c0817d",
   "metadata": {},
   "outputs": [],
   "source": [
    "def add_cloud_bands(img):\n",
    "    # Get s2cloudless image, subset the probability band.\n",
    "    cld_prb = ee.Image(img.get('s2cloudless')).select('probability')\n",
    "\n",
    "    # Condition s2cloudless by the probability threshold value.\n",
    "    is_cloud = cld_prb.gt(CLD_PRB_THRESH).rename('clouds')\n",
    "\n",
    "    # Add the cloud probability layer and cloud mask as image bands.\n",
    "    return img.addBands(ee.Image([cld_prb, is_cloud]))"
   ]
  },
  {
   "cell_type": "code",
   "execution_count": 13,
   "id": "d6c1433f",
   "metadata": {},
   "outputs": [],
   "source": [
    "def add_shadow_bands(img):\n",
    "    # Identify water pixels from the SCL band.\n",
    "    not_water = img.select('SCL').neq(6)\n",
    "\n",
    "    # Identify dark NIR pixels that are not water (potential cloud shadow pixels).\n",
    "    SR_BAND_SCALE = 1e4\n",
    "    dark_pixels = img.select('B8').lt(NIR_DRK_THRESH*SR_BAND_SCALE).multiply(not_water).rename('dark_pixels')\n",
    "\n",
    "    # Determine the direction to project cloud shadow from clouds (assumes UTM projection).\n",
    "    shadow_azimuth = ee.Number(90).subtract(ee.Number(img.get('MEAN_SOLAR_AZIMUTH_ANGLE')));\n",
    "\n",
    "    # Project shadows from clouds for the distance specified by the CLD_PRJ_DIST input.\n",
    "    cld_proj = (img.select('clouds').directionalDistanceTransform(shadow_azimuth, CLD_PRJ_DIST*10)\n",
    "        .reproject(**{'crs': img.select(0).projection(), 'scale': 100})\n",
    "        .select('distance')\n",
    "        .mask()\n",
    "        .rename('cloud_transform'))\n",
    "\n",
    "    # Identify the intersection of dark pixels with cloud shadow projection.\n",
    "    shadows = cld_proj.multiply(dark_pixels).rename('shadows')\n",
    "\n",
    "    # Add dark pixels, cloud projection, and identified shadows as image bands.\n",
    "    return img.addBands(ee.Image([dark_pixels, cld_proj, shadows]))"
   ]
  },
  {
   "cell_type": "code",
   "execution_count": 14,
   "id": "e233ce81",
   "metadata": {},
   "outputs": [],
   "source": [
    "def add_cld_shdw_mask(img):\n",
    "    # Add cloud component bands.\n",
    "    img_cloud = add_cloud_bands(img)\n",
    "\n",
    "    # Add cloud shadow component bands.\n",
    "    img_cloud_shadow = add_shadow_bands(img_cloud)\n",
    "\n",
    "    # Combine cloud and shadow mask, set cloud and shadow as value 1, else 0.\n",
    "    is_cld_shdw = img_cloud_shadow.select('clouds').add(img_cloud_shadow.select('shadows')).gt(0)\n",
    "\n",
    "    # Remove small cloud-shadow patches and dilate remaining pixels by BUFFER input.\n",
    "    # 20 m scale is for speed, and assumes clouds don't require 10 m precision.\n",
    "    is_cld_shdw = (is_cld_shdw.focalMin(2).focalMax(BUFFER*2/20)\n",
    "        .reproject(**{'crs': img.select([0]).projection(), 'scale': 20})\n",
    "        .rename('cloudmask'))\n",
    "\n",
    "    # Add the final cloud-shadow mask to the image.\n",
    "    return img_cloud_shadow.addBands(is_cld_shdw)"
   ]
  },
  {
   "cell_type": "code",
   "execution_count": null,
   "id": "7e3d46e3",
   "metadata": {},
   "outputs": [],
   "source": []
  },
  {
   "cell_type": "code",
   "execution_count": 15,
   "id": "4587a6fb",
   "metadata": {},
   "outputs": [],
   "source": [
    "# Import the folium library.\n",
    "import folium\n",
    "\n",
    "# Define a method for displaying Earth Engine image tiles to a folium map.\n",
    "def add_ee_layer(self, ee_image_object, vis_params, name, show=True, opacity=1, min_zoom=0):\n",
    "    map_id_dict = ee.Image(ee_image_object).getMapId(vis_params)\n",
    "    folium.raster_layers.TileLayer(\n",
    "        tiles=map_id_dict['tile_fetcher'].url_format,\n",
    "        attr='Map Data &copy; <a href=\"https://earthengine.google.com/\">Google Earth Engine</a>',\n",
    "        name=name,\n",
    "        show=show,\n",
    "        opacity=opacity,\n",
    "        min_zoom=min_zoom,\n",
    "        overlay=True,\n",
    "        control=True\n",
    "        ).add_to(self)\n",
    "\n",
    "# Add the Earth Engine layer method to folium.\n",
    "folium.Map.add_ee_layer = add_ee_layer"
   ]
  },
  {
   "cell_type": "code",
   "execution_count": 16,
   "id": "4c6dd028",
   "metadata": {},
   "outputs": [],
   "source": [
    "def apply_cld_shdw_mask(img):\n",
    "    # Subset the cloudmask band and invert it so clouds/shadow are 0, else 1.\n",
    "    not_cld_shdw = img.select('cloudmask').Not()\n",
    "\n",
    "    # Subset reflectance bands and update their masks, return the result.\n",
    "    return img.select('B.*').updateMask(not_cld_shdw)"
   ]
  },
  {
   "cell_type": "code",
   "execution_count": 17,
   "id": "5029a965",
   "metadata": {},
   "outputs": [],
   "source": [
    "def display_cloud_layers(col):\n",
    "    # Mosaic the image collection.\n",
    "    img = col.mosaic()\n",
    "\n",
    "    # Subset layers and prepare them for display.\n",
    "    clouds = img.select('clouds').selfMask()\n",
    "    shadows = img.select('shadows').selfMask()\n",
    "    dark_pixels = img.select('dark_pixels').selfMask()\n",
    "    probability = img.select('probability')\n",
    "    cloudmask = img.select('cloudmask').selfMask()\n",
    "    cloud_transform = img.select('cloud_transform')\n",
    "\n",
    "    # Create a folium map object.\n",
    "    center = region.centroid(10).coordinates().reverse().getInfo()\n",
    "    m = folium.Map(location=center, zoom_start=12)\n",
    "\n",
    "    # Add layers to the folium map.\n",
    "    m.add_ee_layer(img,\n",
    "                   {'bands': ['B4', 'B3', 'B2'], 'min': 0, 'max': 2500, 'gamma': 1.1},\n",
    "                   'S2 image', True, 1, 9)\n",
    "    m.add_ee_layer(probability,\n",
    "                   {'min': 0, 'max': 100},\n",
    "                   'probability (cloud)', False, 1, 9)\n",
    "    m.add_ee_layer(clouds,\n",
    "                   {'palette': 'e056fd'},\n",
    "                   'clouds', False, 1, 9)\n",
    "    m.add_ee_layer(cloud_transform,\n",
    "                   {'min': 0, 'max': 1, 'palette': ['white', 'black']},\n",
    "                   'cloud_transform', False, 1, 9)\n",
    "    m.add_ee_layer(dark_pixels,\n",
    "                   {'palette': 'orange'},\n",
    "                   'dark_pixels', False, 1, 9)\n",
    "    m.add_ee_layer(shadows, {'palette': 'yellow'},\n",
    "                   'shadows', False, 1, 9)\n",
    "    m.add_ee_layer(cloudmask, {'palette': 'orange'},\n",
    "                   'cloudmask', True, 0.5, 9)\n",
    "\n",
    "    # Add a layer control panel to the map.\n",
    "    m.add_child(folium.LayerControl())\n",
    "\n",
    "    # Display the map.\n",
    "    display(m)"
   ]
  },
  {
   "cell_type": "code",
   "execution_count": 18,
   "id": "2db05afb",
   "metadata": {},
   "outputs": [],
   "source": [
    "s2_sr_cld_col_eval1 = get_s2_sr_cld_col(1,region)"
   ]
  },
  {
   "cell_type": "code",
   "execution_count": 19,
   "id": "a6e35e1f",
   "metadata": {},
   "outputs": [],
   "source": [
    "s2_sr_median1 = (s2_sr_cld_col_eval1.map(add_cld_shdw_mask)\n",
    "                             .map(apply_cld_shdw_mask)\n",
    "                             .median())"
   ]
  },
  {
   "cell_type": "code",
   "execution_count": 20,
   "id": "5cc9df42",
   "metadata": {},
   "outputs": [],
   "source": [
    "s2_sr_cld_col_eval2 = get_s2_sr_cld_col(2,region)\n",
    "s2_sr_median2 = (s2_sr_cld_col_eval2.map(add_cld_shdw_mask)\n",
    "                             .map(apply_cld_shdw_mask)\n",
    "                             .median())"
   ]
  },
  {
   "cell_type": "code",
   "execution_count": 21,
   "id": "de6ef311",
   "metadata": {},
   "outputs": [],
   "source": [
    "s2_sr_cld_col_eval3 = get_s2_sr_cld_col(3,region)\n",
    "s2_sr_median3 = (s2_sr_cld_col_eval3.map(add_cld_shdw_mask)\n",
    "                             .map(apply_cld_shdw_mask)\n",
    "                             .median())"
   ]
  },
  {
   "cell_type": "code",
   "execution_count": 22,
   "id": "27fc7d4e",
   "metadata": {},
   "outputs": [],
   "source": [
    "s2_sr_cld_col_eval4 = get_s2_sr_cld_col(4,region)\n",
    "s2_sr_median4 = (s2_sr_cld_col_eval4.map(add_cld_shdw_mask)\n",
    "                             .map(apply_cld_shdw_mask)\n",
    "                             .median())"
   ]
  },
  {
   "cell_type": "code",
   "execution_count": 23,
   "id": "56a0ad68",
   "metadata": {},
   "outputs": [],
   "source": [
    "s2_sr_cld_col_eval5 = get_s2_sr_cld_col(5,region)\n",
    "s2_sr_median5 = (s2_sr_cld_col_eval5.map(add_cld_shdw_mask)\n",
    "                             .map(apply_cld_shdw_mask)\n",
    "                             .median())"
   ]
  },
  {
   "cell_type": "code",
   "execution_count": 24,
   "id": "f4e6911d",
   "metadata": {},
   "outputs": [],
   "source": [
    "s2_sr_cld_col_eval6 = get_s2_sr_cld_col(6,region)\n",
    "s2_sr_median6 = (s2_sr_cld_col_eval6.map(add_cld_shdw_mask)\n",
    "                             .map(apply_cld_shdw_mask)\n",
    "                             .median())"
   ]
  },
  {
   "cell_type": "code",
   "execution_count": 25,
   "id": "97b4f594",
   "metadata": {},
   "outputs": [],
   "source": [
    "s2_sr_cld_col_eval7 = get_s2_sr_cld_col(7,region)\n",
    "s2_sr_median7 = (s2_sr_cld_col_eval7.map(add_cld_shdw_mask)\n",
    "                             .map(apply_cld_shdw_mask)\n",
    "                             .median())"
   ]
  },
  {
   "cell_type": "code",
   "execution_count": 26,
   "id": "bdef1e2c",
   "metadata": {},
   "outputs": [],
   "source": [
    "s2_sr_cld_col_eval8 = get_s2_sr_cld_col(8,region)\n",
    "s2_sr_median8 = (s2_sr_cld_col_eval8.map(add_cld_shdw_mask)\n",
    "                             .map(apply_cld_shdw_mask)\n",
    "                             .median())"
   ]
  },
  {
   "cell_type": "code",
   "execution_count": 27,
   "id": "c39c1b61",
   "metadata": {},
   "outputs": [],
   "source": [
    "s2_sr_cld_col_eval9 = get_s2_sr_cld_col(9,region)\n",
    "s2_sr_median9 = (s2_sr_cld_col_eval9.map(add_cld_shdw_mask)\n",
    "                             .map(apply_cld_shdw_mask)\n",
    "                             .median())"
   ]
  },
  {
   "cell_type": "code",
   "execution_count": 28,
   "id": "e99d60ea",
   "metadata": {},
   "outputs": [],
   "source": [
    "s2_sr_cld_col_eval10 = get_s2_sr_cld_col(10,region)\n",
    "s2_sr_median10 = (s2_sr_cld_col_eval10.map(add_cld_shdw_mask)\n",
    "                             .map(apply_cld_shdw_mask)\n",
    "                             .median())"
   ]
  },
  {
   "cell_type": "code",
   "execution_count": 29,
   "id": "29b26021",
   "metadata": {},
   "outputs": [],
   "source": [
    "s2_sr_cld_col_eval11 = get_s2_sr_cld_col(11,region)\n",
    "s2_sr_median11 = (s2_sr_cld_col_eval11.map(add_cld_shdw_mask)\n",
    "                             .map(apply_cld_shdw_mask)\n",
    "                             .median())"
   ]
  },
  {
   "cell_type": "code",
   "execution_count": 30,
   "id": "0564cb65",
   "metadata": {},
   "outputs": [],
   "source": [
    "s2_sr_cld_col_eval12 = get_s2_sr_cld_col(12,region)\n",
    "s2_sr_median12 = (s2_sr_cld_col_eval12.map(add_cld_shdw_mask)\n",
    "                             .map(apply_cld_shdw_mask)\n",
    "                             .median())"
   ]
  },
  {
   "cell_type": "code",
   "execution_count": 29,
   "id": "852fd35c",
   "metadata": {},
   "outputs": [
    {
     "data": {
      "text/html": [
       "<div style=\"width:100%;\"><div style=\"position:relative;width:100%;height:0;padding-bottom:60%;\"><span style=\"color:#565656\">Make this Notebook Trusted to load map: File -> Trust Notebook</span><iframe srcdoc=\"&lt;!DOCTYPE html&gt;\n",
       "&lt;html&gt;\n",
       "&lt;head&gt;\n",
       "    \n",
       "    &lt;meta http-equiv=&quot;content-type&quot; content=&quot;text/html; charset=UTF-8&quot; /&gt;\n",
       "    \n",
       "        &lt;script&gt;\n",
       "            L_NO_TOUCH = false;\n",
       "            L_DISABLE_3D = false;\n",
       "        &lt;/script&gt;\n",
       "    \n",
       "    &lt;style&gt;html, body {width: 100%;height: 100%;margin: 0;padding: 0;}&lt;/style&gt;\n",
       "    &lt;style&gt;#map {position:absolute;top:0;bottom:0;right:0;left:0;}&lt;/style&gt;\n",
       "    &lt;script src=&quot;https://cdn.jsdelivr.net/npm/leaflet@1.9.3/dist/leaflet.js&quot;&gt;&lt;/script&gt;\n",
       "    &lt;script src=&quot;https://code.jquery.com/jquery-1.12.4.min.js&quot;&gt;&lt;/script&gt;\n",
       "    &lt;script src=&quot;https://cdn.jsdelivr.net/npm/bootstrap@5.2.2/dist/js/bootstrap.bundle.min.js&quot;&gt;&lt;/script&gt;\n",
       "    &lt;script src=&quot;https://cdnjs.cloudflare.com/ajax/libs/Leaflet.awesome-markers/2.0.2/leaflet.awesome-markers.js&quot;&gt;&lt;/script&gt;\n",
       "    &lt;link rel=&quot;stylesheet&quot; href=&quot;https://cdn.jsdelivr.net/npm/leaflet@1.9.3/dist/leaflet.css&quot;/&gt;\n",
       "    &lt;link rel=&quot;stylesheet&quot; href=&quot;https://cdn.jsdelivr.net/npm/bootstrap@5.2.2/dist/css/bootstrap.min.css&quot;/&gt;\n",
       "    &lt;link rel=&quot;stylesheet&quot; href=&quot;https://netdna.bootstrapcdn.com/bootstrap/3.0.0/css/bootstrap.min.css&quot;/&gt;\n",
       "    &lt;link rel=&quot;stylesheet&quot; href=&quot;https://cdn.jsdelivr.net/npm/@fortawesome/fontawesome-free@6.2.0/css/all.min.css&quot;/&gt;\n",
       "    &lt;link rel=&quot;stylesheet&quot; href=&quot;https://cdnjs.cloudflare.com/ajax/libs/Leaflet.awesome-markers/2.0.2/leaflet.awesome-markers.css&quot;/&gt;\n",
       "    &lt;link rel=&quot;stylesheet&quot; href=&quot;https://cdn.jsdelivr.net/gh/python-visualization/folium/folium/templates/leaflet.awesome.rotate.min.css&quot;/&gt;\n",
       "    \n",
       "            &lt;meta name=&quot;viewport&quot; content=&quot;width=device-width,\n",
       "                initial-scale=1.0, maximum-scale=1.0, user-scalable=no&quot; /&gt;\n",
       "            &lt;style&gt;\n",
       "                #map_5bff6b216ad348f3be9aabd55610767f {\n",
       "                    position: relative;\n",
       "                    width: 100.0%;\n",
       "                    height: 100.0%;\n",
       "                    left: 0.0%;\n",
       "                    top: 0.0%;\n",
       "                }\n",
       "                .leaflet-container { font-size: 1rem; }\n",
       "            &lt;/style&gt;\n",
       "        \n",
       "&lt;/head&gt;\n",
       "&lt;body&gt;\n",
       "    \n",
       "    \n",
       "            &lt;div class=&quot;folium-map&quot; id=&quot;map_5bff6b216ad348f3be9aabd55610767f&quot; &gt;&lt;/div&gt;\n",
       "        \n",
       "&lt;/body&gt;\n",
       "&lt;script&gt;\n",
       "    \n",
       "    \n",
       "            var map_5bff6b216ad348f3be9aabd55610767f = L.map(\n",
       "                &quot;map_5bff6b216ad348f3be9aabd55610767f&quot;,\n",
       "                {\n",
       "                    center: [38.56555806154227, 97.93277401807195],\n",
       "                    crs: L.CRS.EPSG3857,\n",
       "                    zoom: 12,\n",
       "                    zoomControl: true,\n",
       "                    preferCanvas: false,\n",
       "                }\n",
       "            );\n",
       "\n",
       "            \n",
       "\n",
       "        \n",
       "    \n",
       "            var tile_layer_b2095fa3be9009b7760f53a53b0417cc = L.tileLayer(\n",
       "                &quot;https://{s}.tile.openstreetmap.org/{z}/{x}/{y}.png&quot;,\n",
       "                {&quot;attribution&quot;: &quot;Data by \\u0026copy; \\u003ca target=\\&quot;_blank\\&quot; href=\\&quot;http://openstreetmap.org\\&quot;\\u003eOpenStreetMap\\u003c/a\\u003e, under \\u003ca target=\\&quot;_blank\\&quot; href=\\&quot;http://www.openstreetmap.org/copyright\\&quot;\\u003eODbL\\u003c/a\\u003e.&quot;, &quot;detectRetina&quot;: false, &quot;maxNativeZoom&quot;: 18, &quot;maxZoom&quot;: 18, &quot;minZoom&quot;: 0, &quot;noWrap&quot;: false, &quot;opacity&quot;: 1, &quot;subdomains&quot;: &quot;abc&quot;, &quot;tms&quot;: false}\n",
       "            ).addTo(map_5bff6b216ad348f3be9aabd55610767f);\n",
       "        \n",
       "    \n",
       "            var tile_layer_4cc30b25d9e977c500937f41d84fdfcc = L.tileLayer(\n",
       "                &quot;https://earthengine.googleapis.com/v1alpha/projects/earthengine-legacy/maps/83db35c8984145ba8663c17e9d52b42b-b053a0c1979da391939ccd12c78eeaca/tiles/{z}/{x}/{y}&quot;,\n",
       "                {&quot;attribution&quot;: &quot;Map Data \\u0026copy; \\u003ca href=\\&quot;https://earthengine.google.com/\\&quot;\\u003eGoogle Earth Engine\\u003c/a\\u003e&quot;, &quot;detectRetina&quot;: false, &quot;maxNativeZoom&quot;: 18, &quot;maxZoom&quot;: 18, &quot;minZoom&quot;: 9, &quot;noWrap&quot;: false, &quot;opacity&quot;: 1, &quot;subdomains&quot;: &quot;abc&quot;, &quot;tms&quot;: false}\n",
       "            ).addTo(map_5bff6b216ad348f3be9aabd55610767f);\n",
       "        \n",
       "    \n",
       "            var layer_control_0a7aa7838fd09b2cc817bcdddfdb9f29 = {\n",
       "                base_layers : {\n",
       "                    &quot;openstreetmap&quot; : tile_layer_b2095fa3be9009b7760f53a53b0417cc,\n",
       "                },\n",
       "                overlays :  {\n",
       "                    &quot;S2 cloud-free mosaic&quot; : tile_layer_4cc30b25d9e977c500937f41d84fdfcc,\n",
       "                },\n",
       "            };\n",
       "            L.control.layers(\n",
       "                layer_control_0a7aa7838fd09b2cc817bcdddfdb9f29.base_layers,\n",
       "                layer_control_0a7aa7838fd09b2cc817bcdddfdb9f29.overlays,\n",
       "                {&quot;autoZIndex&quot;: true, &quot;collapsed&quot;: true, &quot;position&quot;: &quot;topright&quot;}\n",
       "            ).addTo(map_5bff6b216ad348f3be9aabd55610767f);\n",
       "        \n",
       "&lt;/script&gt;\n",
       "&lt;/html&gt;\" style=\"position:absolute;width:100%;height:100%;left:0;top:0;border:none !important;\" allowfullscreen webkitallowfullscreen mozallowfullscreen></iframe></div></div>"
      ],
      "text/plain": [
       "<folium.folium.Map at 0x7fe1da42db80>"
      ]
     },
     "metadata": {},
     "output_type": "display_data"
    }
   ],
   "source": [
    "# Create a folium map object.\n",
    "center = region.centroid(10).coordinates().reverse().getInfo()\n",
    "m = folium.Map(location=center, zoom_start=12)\n",
    "\n",
    "# Add layers to the folium map.\n",
    "m.add_ee_layer(s2_sr_median7,\n",
    "                {'bands': ['B4', 'B3', 'B2'], 'min': 0, 'max': 2500, 'gamma': 1.1},\n",
    "                'S2 cloud-free mosaic', True, 1, 9)\n",
    "\n",
    "# Add a layer control panel to the map.\n",
    "m.add_child(folium.LayerControl())\n",
    "\n",
    "# Display the map.\n",
    "display(m)"
   ]
  },
  {
   "cell_type": "code",
   "execution_count": 31,
   "id": "deb90afb",
   "metadata": {},
   "outputs": [],
   "source": [
    "cloudfree = ee.ImageCollection([s2_sr_median1,s2_sr_median2,s2_sr_median3,s2_sr_median4,\n",
    "                                s2_sr_median5,s2_sr_median6,s2_sr_median7,s2_sr_median8,\n",
    "                                s2_sr_median9,s2_sr_median10,s2_sr_median11,s2_sr_median12]).map(calculate_ndvi)"
   ]
  },
  {
   "cell_type": "code",
   "execution_count": 34,
   "id": "5eac7686",
   "metadata": {},
   "outputs": [
    {
     "data": {
      "text/plain": [
       "{'type': 'Image',\n",
       " 'bands': [{'id': 'B1',\n",
       "   'data_type': {'type': 'PixelType',\n",
       "    'precision': 'double',\n",
       "    'min': 0,\n",
       "    'max': 65535},\n",
       "   'crs': 'EPSG:4326',\n",
       "   'crs_transform': [1, 0, 0, 0, 1, 0]},\n",
       "  {'id': 'B2',\n",
       "   'data_type': {'type': 'PixelType',\n",
       "    'precision': 'double',\n",
       "    'min': 0,\n",
       "    'max': 65535},\n",
       "   'crs': 'EPSG:4326',\n",
       "   'crs_transform': [1, 0, 0, 0, 1, 0]},\n",
       "  {'id': 'B3',\n",
       "   'data_type': {'type': 'PixelType',\n",
       "    'precision': 'double',\n",
       "    'min': 0,\n",
       "    'max': 65535},\n",
       "   'crs': 'EPSG:4326',\n",
       "   'crs_transform': [1, 0, 0, 0, 1, 0]},\n",
       "  {'id': 'B4',\n",
       "   'data_type': {'type': 'PixelType',\n",
       "    'precision': 'double',\n",
       "    'min': 0,\n",
       "    'max': 65535},\n",
       "   'crs': 'EPSG:4326',\n",
       "   'crs_transform': [1, 0, 0, 0, 1, 0]},\n",
       "  {'id': 'B5',\n",
       "   'data_type': {'type': 'PixelType',\n",
       "    'precision': 'double',\n",
       "    'min': 0,\n",
       "    'max': 65535},\n",
       "   'crs': 'EPSG:4326',\n",
       "   'crs_transform': [1, 0, 0, 0, 1, 0]},\n",
       "  {'id': 'B6',\n",
       "   'data_type': {'type': 'PixelType',\n",
       "    'precision': 'double',\n",
       "    'min': 0,\n",
       "    'max': 65535},\n",
       "   'crs': 'EPSG:4326',\n",
       "   'crs_transform': [1, 0, 0, 0, 1, 0]},\n",
       "  {'id': 'B7',\n",
       "   'data_type': {'type': 'PixelType',\n",
       "    'precision': 'double',\n",
       "    'min': 0,\n",
       "    'max': 65535},\n",
       "   'crs': 'EPSG:4326',\n",
       "   'crs_transform': [1, 0, 0, 0, 1, 0]},\n",
       "  {'id': 'B8',\n",
       "   'data_type': {'type': 'PixelType',\n",
       "    'precision': 'double',\n",
       "    'min': 0,\n",
       "    'max': 65535},\n",
       "   'crs': 'EPSG:4326',\n",
       "   'crs_transform': [1, 0, 0, 0, 1, 0]},\n",
       "  {'id': 'B8A',\n",
       "   'data_type': {'type': 'PixelType',\n",
       "    'precision': 'double',\n",
       "    'min': 0,\n",
       "    'max': 65535},\n",
       "   'crs': 'EPSG:4326',\n",
       "   'crs_transform': [1, 0, 0, 0, 1, 0]},\n",
       "  {'id': 'B9',\n",
       "   'data_type': {'type': 'PixelType',\n",
       "    'precision': 'double',\n",
       "    'min': 0,\n",
       "    'max': 65535},\n",
       "   'crs': 'EPSG:4326',\n",
       "   'crs_transform': [1, 0, 0, 0, 1, 0]},\n",
       "  {'id': 'B11',\n",
       "   'data_type': {'type': 'PixelType',\n",
       "    'precision': 'double',\n",
       "    'min': 0,\n",
       "    'max': 65535},\n",
       "   'crs': 'EPSG:4326',\n",
       "   'crs_transform': [1, 0, 0, 0, 1, 0]},\n",
       "  {'id': 'B12',\n",
       "   'data_type': {'type': 'PixelType',\n",
       "    'precision': 'double',\n",
       "    'min': 0,\n",
       "    'max': 65535},\n",
       "   'crs': 'EPSG:4326',\n",
       "   'crs_transform': [1, 0, 0, 0, 1, 0]}]}"
      ]
     },
     "execution_count": 34,
     "metadata": {},
     "output_type": "execute_result"
    }
   ],
   "source": [
    "s2_sr_median1.getInfo()"
   ]
  },
  {
   "cell_type": "code",
   "execution_count": 32,
   "id": "0784d6e4",
   "metadata": {},
   "outputs": [],
   "source": [
    "geemap.ee_export_image_to_drive(\n",
    "    s2_sr_median1,\n",
    "    crs = \"EPSG:4326\",folder = \"Month01\",\n",
    "    region = region.bounds(), scale=10,maxPixels=99999999999\n",
    ")"
   ]
  },
  {
   "cell_type": "code",
   "execution_count": 33,
   "id": "10152e17",
   "metadata": {},
   "outputs": [],
   "source": [
    "geemap.ee_export_image_to_drive(\n",
    "    s2_sr_median2,\n",
    "    crs = \"EPSG:4326\",folder = \"Month02\",\n",
    "    region = region.bounds(), scale=10,maxPixels=99999999999\n",
    ")"
   ]
  },
  {
   "cell_type": "code",
   "execution_count": 34,
   "id": "f33150de",
   "metadata": {},
   "outputs": [],
   "source": [
    "geemap.ee_export_image_to_drive(\n",
    "    s2_sr_median3,\n",
    "    crs = \"EPSG:4326\",folder = \"Month03\",\n",
    "    region = region.bounds(), scale=10,maxPixels=99999999999\n",
    ")"
   ]
  },
  {
   "cell_type": "code",
   "execution_count": 35,
   "id": "d23e5572",
   "metadata": {},
   "outputs": [],
   "source": [
    "geemap.ee_export_image_to_drive(\n",
    "    s2_sr_median4,\n",
    "    crs = \"EPSG:4326\",folder = \"Month04\",\n",
    "    region = region.bounds(), scale=10,maxPixels=99999999999\n",
    ")"
   ]
  },
  {
   "cell_type": "code",
   "execution_count": 36,
   "id": "a9211ae5",
   "metadata": {},
   "outputs": [],
   "source": [
    "geemap.ee_export_image_to_drive(\n",
    "    s2_sr_median5,\n",
    "    crs = \"EPSG:4326\",folder = \"Month05\",\n",
    "    region = region.bounds(), scale=10,maxPixels=99999999999\n",
    ")"
   ]
  },
  {
   "cell_type": "code",
   "execution_count": 37,
   "id": "e6d21841",
   "metadata": {},
   "outputs": [],
   "source": [
    "geemap.ee_export_image_to_drive(\n",
    "    s2_sr_median6,\n",
    "    crs = \"EPSG:4326\",folder = \"Month06\",\n",
    "    region = region.bounds(), scale=10,maxPixels=99999999999\n",
    ")"
   ]
  },
  {
   "cell_type": "code",
   "execution_count": 38,
   "id": "287f0297",
   "metadata": {},
   "outputs": [],
   "source": [
    "geemap.ee_export_image_to_drive(\n",
    "    s2_sr_median7,\n",
    "    crs = \"EPSG:4326\",folder = \"Month07\",\n",
    "    region = region.bounds(), scale=10,maxPixels=99999999999\n",
    ")"
   ]
  },
  {
   "cell_type": "code",
   "execution_count": 39,
   "id": "f9c8bb15",
   "metadata": {},
   "outputs": [],
   "source": [
    "geemap.ee_export_image_to_drive(\n",
    "    s2_sr_median8,\n",
    "    crs = \"EPSG:4326\",folder = \"Month08\",\n",
    "    region = region.bounds(), scale=10,maxPixels=99999999999\n",
    ")"
   ]
  },
  {
   "cell_type": "code",
   "execution_count": 40,
   "id": "ae66a141",
   "metadata": {},
   "outputs": [],
   "source": [
    "geemap.ee_export_image_to_drive(\n",
    "    s2_sr_median9,\n",
    "    crs = \"EPSG:4326\",folder = \"Month09\",\n",
    "    region = region.bounds(), scale=10,maxPixels=99999999999\n",
    ")"
   ]
  },
  {
   "cell_type": "code",
   "execution_count": 41,
   "id": "e7c4434f",
   "metadata": {},
   "outputs": [],
   "source": [
    "geemap.ee_export_image_to_drive(\n",
    "    s2_sr_median10,\n",
    "    crs = \"EPSG:4326\",folder = \"Month10\",\n",
    "    region = region.bounds(), scale=10,maxPixels=99999999999\n",
    ")"
   ]
  },
  {
   "cell_type": "code",
   "execution_count": 42,
   "id": "3cb88a21",
   "metadata": {},
   "outputs": [],
   "source": [
    "geemap.ee_export_image_to_drive(\n",
    "    s2_sr_median11,\n",
    "    crs = \"EPSG:4326\",folder = \"Month11\",\n",
    "    region = region.bounds(), scale=10,maxPixels=99999999999\n",
    ")"
   ]
  },
  {
   "cell_type": "code",
   "execution_count": 43,
   "id": "4b01a2f4",
   "metadata": {},
   "outputs": [],
   "source": [
    "geemap.ee_export_image_to_drive(\n",
    "    s2_sr_median12,\n",
    "    crs = \"EPSG:4326\",folder = \"Month12\",\n",
    "    region = region.bounds(), scale=10,maxPixels=99999999999\n",
    ")"
   ]
  },
  {
   "cell_type": "code",
   "execution_count": null,
   "id": "25202a5f",
   "metadata": {},
   "outputs": [],
   "source": []
  }
 ],
 "metadata": {
  "kernelspec": {
   "display_name": "Python 3 (ipykernel)",
   "language": "python",
   "name": "python3"
  },
  "language_info": {
   "codemirror_mode": {
    "name": "ipython",
    "version": 3
   },
   "file_extension": ".py",
   "mimetype": "text/x-python",
   "name": "python",
   "nbconvert_exporter": "python",
   "pygments_lexer": "ipython3",
   "version": "3.9.12"
  }
 },
 "nbformat": 4,
 "nbformat_minor": 5
}
