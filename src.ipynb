{
 "cells": [
  {
   "cell_type": "code",
   "execution_count": 3,
   "id": "ce75e704",
   "metadata": {},
   "outputs": [],
   "source": [
    "import ee\n",
    "import geemap\n",
    "import geedim as gd\n",
    "import geopandas as gpd"
   ]
  },
  {
   "cell_type": "code",
   "execution_count": 4,
   "id": "cd7319b9",
   "metadata": {},
   "outputs": [],
   "source": [
    "geemap.set_proxy(port=4780)"
   ]
  },
  {
   "cell_type": "code",
   "execution_count": 7,
   "id": "d9fc913b",
   "metadata": {},
   "outputs": [],
   "source": [
    "ee.Initialize()"
   ]
  },
  {
   "cell_type": "code",
   "execution_count": 8,
   "id": "ede76c3f",
   "metadata": {},
   "outputs": [],
   "source": [
    "sentinel = ee.ImageCollection('COPERNICUS/S2_SR_HARMONIZED')"
   ]
  },
  {
   "cell_type": "code",
   "execution_count": 28,
   "id": "bf998c0a",
   "metadata": {},
   "outputs": [],
   "source": [
    "geometry_dir = \"/Users/lilywang/Desktop/phD/Qilian/UAV-LULC/downloaded-datasets/Suli/suli.shp\""
   ]
  },
  {
   "cell_type": "code",
   "execution_count": 29,
   "id": "2b237dcf",
   "metadata": {},
   "outputs": [],
   "source": [
    "region = geemap.shp_to_ee(geometry_dir)"
   ]
  },
  {
   "cell_type": "code",
   "execution_count": 30,
   "id": "753b7f9c",
   "metadata": {},
   "outputs": [],
   "source": [
    "def clip_to_shapefile(img):\n",
    "    return img.clip(region.geometry())"
   ]
  },
  {
   "cell_type": "code",
   "execution_count": 31,
   "id": "2521ccf0",
   "metadata": {},
   "outputs": [],
   "source": [
    "collection = sentinel.filterDate('2022-01-01','2022-12-31').filterBounds(region).map(clip_to_shapefile)\n"
   ]
  },
  {
   "cell_type": "code",
   "execution_count": 40,
   "id": "96691b90",
   "metadata": {},
   "outputs": [
    {
     "data": {
      "text/plain": [
       "368"
      ]
     },
     "execution_count": 40,
     "metadata": {},
     "output_type": "execute_result"
    }
   ],
   "source": [
    "collection.size().getInfo()"
   ]
  },
  {
   "cell_type": "code",
   "execution_count": 35,
   "id": "e42e63ed",
   "metadata": {},
   "outputs": [],
   "source": [
    "img = collection.median()"
   ]
  },
  {
   "cell_type": "code",
   "execution_count": 39,
   "id": "d66cce93",
   "metadata": {},
   "outputs": [
    {
     "data": {
      "application/vnd.jupyter.widget-view+json": {
       "model_id": "932aa73bf86e43709d05bef14f384cca",
       "version_major": 2,
       "version_minor": 0
      },
      "text/plain": [
       "Map(center=[20, 0], controls=(WidgetControl(options=['position', 'transparent_bg'], widget=HBox(children=(Togg…"
      ]
     },
     "metadata": {},
     "output_type": "display_data"
    }
   ],
   "source": [
    "m = geemap.Map()\n",
    "m.addLayer(img)\n",
    "m"
   ]
  },
  {
   "cell_type": "code",
   "execution_count": null,
   "id": "636bc26f",
   "metadata": {},
   "outputs": [
    {
     "name": "stdout",
     "output_type": "stream",
     "text": [
      "Total number of images: 368\n",
      "\n",
      "Exporting 1/368: 20220103T042151_20220103T042349_T47SLC.tif\n",
      "Generating URL ...\n"
     ]
    }
   ],
   "source": [
    "geemap.ee_export_image_collection(\n",
    "    collection, \n",
    "    out_dir = \"/Volumes/LEOPARDS/Suli\", \n",
    "    scale=None, \n",
    "    crs=None, \n",
    "    region=region.geometry(), \n",
    "    file_per_band=False, \n",
    "    timeout=36000, \n",
    "    proxies=None\n",
    ")"
   ]
  }
 ],
 "metadata": {
  "kernelspec": {
   "display_name": "Python 3 (ipykernel)",
   "language": "python",
   "name": "python3"
  },
  "language_info": {
   "codemirror_mode": {
    "name": "ipython",
    "version": 3
   },
   "file_extension": ".py",
   "mimetype": "text/x-python",
   "name": "python",
   "nbconvert_exporter": "python",
   "pygments_lexer": "ipython3",
   "version": "3.9.12"
  }
 },
 "nbformat": 4,
 "nbformat_minor": 5
}
